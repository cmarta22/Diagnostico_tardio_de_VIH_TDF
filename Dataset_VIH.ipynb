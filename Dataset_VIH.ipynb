{
  "nbformat": 4,
  "nbformat_minor": 0,
  "metadata": {
    "colab": {
      "provenance": [],
      "mount_file_id": "1laMohIn8-LvIldMq-GSSGDhMkhKvS9Mz",
      "authorship_tag": "ABX9TyMktf9Y6JMhP1Lj8v0ygwvf",
      "include_colab_link": true
    },
    "kernelspec": {
      "name": "python3",
      "display_name": "Python 3"
    },
    "language_info": {
      "name": "python"
    }
  },
  "cells": [
    {
      "cell_type": "markdown",
      "metadata": {
        "id": "view-in-github",
        "colab_type": "text"
      },
      "source": [
        "<a href=\"https://colab.research.google.com/github/cmarta22/Diagnostico_tardio_de_VIH_TDF/blob/main/Dataset_VIH.ipynb\" target=\"_parent\"><img src=\"https://colab.research.google.com/assets/colab-badge.svg\" alt=\"Open In Colab\"/></a>"
      ]
    },
    {
      "cell_type": "markdown",
      "source": [
        "# Importo de los  Dataset desde Google Drive"
      ],
      "metadata": {
        "id": "x2qdUvfA6AI_"
      }
    },
    {
      "cell_type": "code",
      "source": [
        "from google.colab import drive\n",
        "drive.mount('/content/drive')\n"
      ],
      "metadata": {
        "colab": {
          "base_uri": "https://localhost:8080/"
        },
        "id": "Yhubr2qV0YGy",
        "outputId": "bc7c7462-45f0-49ce-8860-46afe2afe6eb"
      },
      "execution_count": null,
      "outputs": [
        {
          "output_type": "stream",
          "name": "stdout",
          "text": [
            "Drive already mounted at /content/drive; to attempt to forcibly remount, call drive.mount(\"/content/drive\", force_remount=True).\n"
          ]
        }
      ]
    },
    {
      "cell_type": "markdown",
      "source": [
        "Union de los 2 dataset"
      ],
      "metadata": {
        "id": "2brvDVP_5Tjn"
      }
    },
    {
      "cell_type": "code",
      "source": [
        "import pandas as pd\n",
        "\n",
        "# Definir la ruta de drive\n",
        "path = \"/content/drive/MyDrive/Dataset_Originales\"\n",
        "\n",
        "# Leer el archivo CSV de Dignostico tardio\n",
        "df_dx = pd.read_csv(path + \"/dx-tardio-vih-genero-grupo-etario-2010-2019-argentina_1.csv\", encoding='latin1')\n",
        "\n",
        "# Leer el archivo CSV de tasa de VIH\n",
        "df_tasa = pd.read_csv(path + \"/tasa-vih-por-100-mil-habitantes-sexo-jurisdiccion-2010-2022-argentina-actualizacion_1.csv\",encoding='latin1')\n",
        "\n",
        "\n",
        "\n",
        "\n"
      ],
      "metadata": {
        "id": "TKseQXa3lunF"
      },
      "execution_count": 42,
      "outputs": []
    },
    {
      "cell_type": "code",
      "source": [
        "# Ver columnas para elegir con cual see puede unir\n",
        "print(\"Columnas df_dx:\", df_dx.columns)\n",
        "print(\"Columnas df_tasa:\", df_tasa.columns)"
      ],
      "metadata": {
        "colab": {
          "base_uri": "https://localhost:8080/"
        },
        "id": "e6x9k5BxULqF",
        "outputId": "c336596b-83c6-4c10-a4d7-f9392d929acf"
      },
      "execution_count": 51,
      "outputs": [
        {
          "output_type": "stream",
          "name": "stdout",
          "text": [
            "Columnas df_dx: Index(['id_genero', 'sexo', 'id_grupo_etario', 'grupo_etario', 'bienio',\n",
            "       'porcentaje_diagnostico_tardio'],\n",
            "      dtype='object')\n",
            "Columnas df_tasa: Index(['id_sexo;sexo;id_jurisdiccion;jurisdiccion;anio;jurisdiccion_tasa_vih'], dtype='object')\n"
          ]
        }
      ]
    },
    {
      "cell_type": "code",
      "source": [
        "# Elimina espacio invisibles y mayusculas/minusculas\n",
        "df_dx.columns = df_dx.columns.str.strip().str.lower()\n",
        "df_tasa.columns = df_tasa.columns.str.strip().str.lower()"
      ],
      "metadata": {
        "id": "X4RAES6RZC8c"
      },
      "execution_count": 46,
      "outputs": []
    },
    {
      "cell_type": "code",
      "source": [
        "print(df_dx.columns)\n",
        "print(df_tasa.columns)"
      ],
      "metadata": {
        "colab": {
          "base_uri": "https://localhost:8080/"
        },
        "id": "B0JDBEXpYziV",
        "outputId": "cda63eef-c335-48a6-dfee-017eb0616ab2"
      },
      "execution_count": 54,
      "outputs": [
        {
          "output_type": "stream",
          "name": "stdout",
          "text": [
            "Index(['id_genero', 'sexo', 'id_grupo_etario', 'grupo_etario', 'bienio',\n",
            "       'porcentaje_diagnostico_tardio'],\n",
            "      dtype='object')\n",
            "Index(['id_sexo', 'sexo', 'id_jurisdiccion', 'jurisdiccion', 'anio',\n",
            "       'jurisdiccion_tasa_vih'],\n",
            "      dtype='object')\n"
          ]
        }
      ]
    },
    {
      "cell_type": "markdown",
      "source": [],
      "metadata": {
        "id": "uKrGMQWoifZL"
      }
    },
    {
      "cell_type": "code",
      "source": [
        "path = \"/content/drive/MyDrive/Dataset_Originales/\"  # Concatenar bien la ruta del archivo\n",
        "\n",
        "df_tasa = pd.read_csv(path + \"tasa-vih-por-100-mil-habitantes-sexo-jurisdiccion-2010-2022-argentina-actualizacion_1.csv\",\n",
        "                      encoding='latin1', sep=';')"
      ],
      "metadata": {
        "id": "9pd4FSKcdABz"
      },
      "execution_count": 55,
      "outputs": []
    },
    {
      "cell_type": "code",
      "source": [
        "# Paso 1: Separar los años del bienio\n",
        "df_dx[['anio_inicio', 'anio_fin']] = df_dx['bienio'].str.split('-', expand=True).astype(int)\n",
        "\n",
        "# Paso 2: Expandir cada fila por los años del bienio\n",
        "lista_filas = []\n",
        "\n",
        "for _, row in df_dx.iterrows():\n",
        "    for anio in range(row['anio_inicio'], row['anio_fin'] + 1):\n",
        "        lista_filas.append({\n",
        "            'anio': anio,\n",
        "            'sexo': row['sexo'],\n",
        "            'grupo_etario': row['grupo_etario'],\n",
        "            'porcentaje_diagnostico_tardio': row['porcentaje_diagnostico_tardio']\n",
        "        })\n",
        "\n",
        "df_dx_expandido = pd.DataFrame(lista_filas)\n",
        "\n",
        "# Paso 3: Filtrar entre 2010 y 2019\n",
        "df_dx_expandido = df_dx_expandido[df_dx_expandido['anio'].between(2010, 2019)]\n",
        "\n",
        "# Verificá que la columna 'anio' exista ahora\n",
        "print(df_dx_expandido.columns)\n",
        "print(df_dx_expandido.head())\n",
        "\n",
        "\n"
      ],
      "metadata": {
        "colab": {
          "base_uri": "https://localhost:8080/"
        },
        "id": "CjNPacG6eBUj",
        "outputId": "5a6f1e6a-ea40-4885-bc9b-068ca05a16fc"
      },
      "execution_count": 60,
      "outputs": [
        {
          "output_type": "stream",
          "name": "stdout",
          "text": [
            "Index(['anio', 'sexo', 'grupo_etario', 'porcentaje_diagnostico_tardio'], dtype='object')\n",
            "   anio          sexo grupo_etario  porcentaje_diagnostico_tardio\n",
            "0  2013  Total_genero  total_grupo                           24.9\n",
            "1  2014  Total_genero  total_grupo                           24.9\n",
            "2  2015  Total_genero  total_grupo                           30.9\n",
            "3  2016  Total_genero  total_grupo                           30.9\n",
            "4  2017  Total_genero  total_grupo                           31.1\n"
          ]
        }
      ]
    },
    {
      "cell_type": "code",
      "source": [
        "# Filtrar entre 2010 y 2019\n",
        "df_dx_expandido = df_dx_expandido[df_dx_expandido['anio'].between(2010, 2019)]\n",
        "\n",
        "# Hacer la union por sexo y año\n",
        "df_merged = pd.merge(df_dx_expandido, df_tasa, on=['sexo', 'anio'], how='inner')\n",
        "\n",
        "# Ver primeras filas del resultado\n",
        "print(df_merged.head())"
      ],
      "metadata": {
        "colab": {
          "base_uri": "https://localhost:8080/"
        },
        "id": "dTN8tRKCi57S",
        "outputId": "d8a0eb85-800b-4d2c-df2b-a81079f37f65"
      },
      "execution_count": 61,
      "outputs": [
        {
          "output_type": "stream",
          "name": "stdout",
          "text": [
            "Empty DataFrame\n",
            "Columns: [anio, sexo, grupo_etario, porcentaje_diagnostico_tardio, id_sexo, id_jurisdiccion, jurisdiccion, jurisdiccion_tasa_vih]\n",
            "Index: []\n"
          ]
        }
      ]
    },
    {
      "cell_type": "code",
      "source": [
        "# Para ver cómo evolucionó el diagnóstico tardío y la tasa de VIH en distintos rangos etarios\n",
        "df_por_grupo = df_merged.groupby(['grupo_etario', 'anio']).agg({\n",
        "    'porcentaje_diagnostico_tardio': 'mean',\n",
        "    'jurisdiccion_tasa_vih': 'mean'\n",
        "}).reset_index()\n"
      ],
      "metadata": {
        "id": "R1ek_iCykqrC"
      },
      "execution_count": 63,
      "outputs": []
    },
    {
      "cell_type": "code",
      "source": [
        "#Agrupar por jurisdiccion y año\n",
        "df_por_jurisdiccion = df_merged.groupby(['jurisdiccion', 'anio']).agg({\n",
        "    'porcentaje_diagnostico_tardio': 'mean',\n",
        "    'jurisdiccion_tasa_vih': 'mean'\n",
        "}).reset_index()\n"
      ],
      "metadata": {
        "id": "Xnbz5_pZmIhy"
      },
      "execution_count": 65,
      "outputs": []
    },
    {
      "cell_type": "code",
      "source": [
        "df_merged.info()\n"
      ],
      "metadata": {
        "colab": {
          "base_uri": "https://localhost:8080/"
        },
        "id": "KJ0ZB1CSnHWq",
        "outputId": "e32f3417-dc6d-46e3-a0cb-578fabb42bc9"
      },
      "execution_count": 66,
      "outputs": [
        {
          "output_type": "stream",
          "name": "stdout",
          "text": [
            "<class 'pandas.core.frame.DataFrame'>\n",
            "RangeIndex: 0 entries\n",
            "Data columns (total 8 columns):\n",
            " #   Column                         Non-Null Count  Dtype  \n",
            "---  ------                         --------------  -----  \n",
            " 0   anio                           0 non-null      int64  \n",
            " 1   sexo                           0 non-null      object \n",
            " 2   grupo_etario                   0 non-null      object \n",
            " 3   porcentaje_diagnostico_tardio  0 non-null      float64\n",
            " 4   id_sexo                        0 non-null      int64  \n",
            " 5   id_jurisdiccion                0 non-null      int64  \n",
            " 6   jurisdiccion                   0 non-null      object \n",
            " 7   jurisdiccion_tasa_vih          0 non-null      object \n",
            "dtypes: float64(1), int64(3), object(4)\n",
            "memory usage: 132.0+ bytes\n"
          ]
        }
      ]
    },
    {
      "cell_type": "code",
      "source": [
        "df_merged.to_csv(\"/content/drive/MyDrive/Dataset_Unificado.csv\", index=False)"
      ],
      "metadata": {
        "id": "bG768dLSntGC"
      },
      "execution_count": 68,
      "outputs": []
    }
  ]
}